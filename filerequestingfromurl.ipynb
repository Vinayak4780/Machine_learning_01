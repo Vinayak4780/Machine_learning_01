{
 "cells": [
  {
   "cell_type": "code",
   "execution_count": 9,
   "id": "b349c81a-e6f3-42dd-b2f1-c205e4f4ba73",
   "metadata": {},
   "outputs": [
    {
     "name": "stdout",
     "output_type": "stream",
     "text": [
      "(8, 9)\n",
      "(8, 9)\n",
      "(8, 9)\n",
      "(8, 9)\n",
      "(8, 9)\n",
      "(8, 9)\n",
      "(8, 9)\n",
      "(8, 9)\n",
      "(8, 9)\n",
      "(8, 9)\n",
      "(8, 9)\n",
      "(8, 9)\n",
      "(4, 9)\n"
     ]
    }
   ],
   "source": [
    "import requests\n",
    "from io import StringIO\n",
    "import pandas as pd\n",
    "url1 = \"https://media.githubusercontent.com/media/datablist/sample-csv-files/main/files/organizations/organizations-100.csv\"\n",
    "req = requests.get(url1)\n",
    "data = StringIO(req.text)\n",
    "df = pd.read_csv(data, chunksize = 8)\n",
    "for chunks in df:\n",
    "  print(chunks.shape)\n"
   ]
  },
  {
   "cell_type": "code",
   "execution_count": null,
   "id": "6c9a91af-2b2d-4bba-9ea2-ddfbb7f6a74d",
   "metadata": {},
   "outputs": [],
   "source": []
  }
 ],
 "metadata": {
  "kernelspec": {
   "display_name": "Python 3 (ipykernel)",
   "language": "python",
   "name": "python3"
  },
  "language_info": {
   "codemirror_mode": {
    "name": "ipython",
    "version": 3
   },
   "file_extension": ".py",
   "mimetype": "text/x-python",
   "name": "python",
   "nbconvert_exporter": "python",
   "pygments_lexer": "ipython3",
   "version": "3.11.4"
  },
  "widgets": {
   "application/vnd.jupyter.widget-state+json": {
    "state": {},
    "version_major": 2,
    "version_minor": 0
   }
  }
 },
 "nbformat": 4,
 "nbformat_minor": 5
}
