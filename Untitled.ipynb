{
 "cells": [
  {
   "cell_type": "code",
   "execution_count": 93,
   "id": "da9cef70-7fa6-43b5-b73e-29b7465f66ea",
   "metadata": {},
   "outputs": [],
   "source": [
    "import pandas as pd\n",
    "import matplotlib.pyplot as plt\n",
    "from sklearn.model_selection import train_test_split\n",
    "from sklearn.compose import ColumnTransformer\n",
    "from sklearn.model_selection import cross_val_score\n",
    "import numpy as np\n",
    "from sklearn.preprocessing import KBinsDiscretizer\n",
    "from sklearn.metrics import accuracy_score\n",
    "from sklearn.tree import DecisionTreeClassifier"
   ]
  },
  {
   "cell_type": "code",
   "execution_count": 97,
   "id": "b321af21-9bec-47b5-b5c4-36b9a0fdc443",
   "metadata": {},
   "outputs": [],
   "source": [
    "df = pd.read_csv('trains.csv', usecols=['Age','Fare','Survived'])"
   ]
  },
  {
   "cell_type": "code",
   "execution_count": 95,
   "id": "4358ede1-0b97-457e-bd59-6ec07a44f41f",
   "metadata": {},
   "outputs": [],
   "source": [
    "df.dropna(inplace=True)\n",
    "df.isnull().sum()\n",
    "x = df.iloc[:,1:]\n",
    "y= df.iloc[:,0]"
   ]
  },
  {
   "cell_type": "code",
   "execution_count": 96,
   "id": "6dcd3d28-ca0a-4dd3-8c70-d6b8bf5315ce",
   "metadata": {},
   "outputs": [],
   "source": [
    "x_train,x_test,y_train,y_test = train_test_split(df.iloc[:,1:],df.iloc[:,0],test_size = 0.3,random_state=42)"
   ]
  },
  {
   "cell_type": "code",
   "execution_count": 103,
   "id": "0dda1c3f-8002-43d1-813b-33c82f620936",
   "metadata": {},
   "outputs": [
    {
     "name": "stderr",
     "output_type": "stream",
     "text": [
      "C:\\Users\\vinay\\AppData\\Roaming\\Python\\Python311\\site-packages\\sklearn\\preprocessing\\_discretization.py:248: FutureWarning: In version 1.5 onwards, subsample=200_000 will be used by default. Set subsample explicitly to silence this warning in the mean time. Set subsample=None to disable subsampling explicitly.\n",
      "  warnings.warn(\n",
      "C:\\Users\\vinay\\AppData\\Roaming\\Python\\Python311\\site-packages\\sklearn\\preprocessing\\_discretization.py:248: FutureWarning: In version 1.5 onwards, subsample=200_000 will be used by default. Set subsample explicitly to silence this warning in the mean time. Set subsample=None to disable subsampling explicitly.\n",
      "  warnings.warn(\n",
      "C:\\Users\\vinay\\AppData\\Roaming\\Python\\Python311\\site-packages\\sklearn\\preprocessing\\_discretization.py:248: FutureWarning: In version 1.5 onwards, subsample=200_000 will be used by default. Set subsample explicitly to silence this warning in the mean time. Set subsample=None to disable subsampling explicitly.\n",
      "  warnings.warn(\n",
      "C:\\Users\\vinay\\AppData\\Roaming\\Python\\Python311\\site-packages\\sklearn\\preprocessing\\_discretization.py:248: FutureWarning: In version 1.5 onwards, subsample=200_000 will be used by default. Set subsample explicitly to silence this warning in the mean time. Set subsample=None to disable subsampling explicitly.\n",
      "  warnings.warn(\n"
     ]
    }
   ],
   "source": [
    "np.mean(cross_val_score(DecisionTreeClassifier(),x,y,cv=10,scoring='accuracy'))\n",
    "k_bin_age = KBinsDiscretizer(n_bins = 10, encode='ordinal',strategy='kmeans')\n",
    "k_bin_Fare = KBinsDiscretizer(n_bins = 10, encode='ordinal',strategy='kmeans')\n",
    "trf = ColumnTransformer([\n",
    "    ('first',k_bin_age,[0]),\n",
    "    ('second',k_bin_Fare,[1]),\n",
    "])\n",
    "x_train_transform = trf.fit_transform(x_train)\n",
    "x_test_transform = trf.fit_transform(x_test)\n",
    "output = pd.DataFrame({\n",
    "    'age': x_train['Age'],\n",
    "    'age_trf':x_train_transform[:,0],\n",
    "    'fare':x_train['Fare'],\n",
    "    'fare_trf':x_train_transform[:,1]\n",
    "})\n",
    "output['Age_Label'] = pd.cut(x=x_train['Age'],bins=trf.named_transformers_['first'].bin_edges_[0].tolist())\n",
    "output['Fare_Label'] = pd.cut(x=x_train['Fare'],bins=trf.named_transformers_['second'].bin_edges_[0].tolist())\n",
    "clf = DecisionTreeClassifier()\n",
    "clf.fit(x_train_transform,y_train)\n",
    "ypred2 = clf.predict(x_test_transform)\n",
    "\n"
   ]
  },
  {
   "cell_type": "code",
   "execution_count": 105,
   "id": "73f3ca00-7dd6-45b1-8791-7a6b038fa538",
   "metadata": {},
   "outputs": [
    {
     "data": {
      "text/plain": [
       "0.627906976744186"
      ]
     },
     "execution_count": 105,
     "metadata": {},
     "output_type": "execute_result"
    }
   ],
   "source": [
    "accuracy_score(y_test,ypred2)"
   ]
  },
  {
   "cell_type": "code",
   "execution_count": null,
   "id": "1ccfa65b-c621-4b68-8a06-280900efe051",
   "metadata": {},
   "outputs": [],
   "source": []
  }
 ],
 "metadata": {
  "kernelspec": {
   "display_name": "Python 3 (ipykernel)",
   "language": "python",
   "name": "python3"
  },
  "language_info": {
   "codemirror_mode": {
    "name": "ipython",
    "version": 3
   },
   "file_extension": ".py",
   "mimetype": "text/x-python",
   "name": "python",
   "nbconvert_exporter": "python",
   "pygments_lexer": "ipython3",
   "version": "3.11.4"
  }
 },
 "nbformat": 4,
 "nbformat_minor": 5
}
