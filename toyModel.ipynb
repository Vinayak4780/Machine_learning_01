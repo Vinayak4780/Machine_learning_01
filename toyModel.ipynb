{
 "cells": [
  {
   "cell_type": "code",
   "execution_count": 1,
   "id": "806a8789-16d1-44c5-aa9a-4064dc706f22",
   "metadata": {},
   "outputs": [
    {
     "name": "stdout",
     "output_type": "stream",
     "text": [
      "vvhvgj\n"
     ]
    }
   ],
   "source": [
    "print(\"vvhvgj\")"
   ]
  },
  {
   "cell_type": "code",
   "execution_count": null,
   "id": "1ded7ae9-162f-4027-979f-0b4d507a934e",
   "metadata": {},
   "outputs": [],
   "source": [
    "n=int(input(\"enter no\"))\n",
    "n\n"
   ]
  },
  {
   "cell_type": "code",
   "execution_count": 1,
   "id": "18488b66-e7ff-4f13-bd19-63c57f330a74",
   "metadata": {},
   "outputs": [],
   "source": [
    "import pandas as pd\n",
    "from sklearn.datasets import load_iris\n",
    "from sklearn.model_selection import train_test_split\n",
    "from sklearn.metrics import mean_absolute_error,mean_squared_error\n",
    "from sklearn.linear_model import LinearRegression\n",
    "import numpy as np\n",
    "import matplotlib.pyplot as plt\n",
    "data = load_iris()\n",
    "df = pd.DataFrame(data=data.data,columns = data.feature_names)\n",
    "x = df['petal width (cm)'].values.reshape(-1,1)\n",
    "y = df['petal length (cm)'].values.reshape(-1,1)\n",
    "x_train,x_test, y_train,y_test = train_test_split(x,y,test_size=0.2)\n",
    "regression = LinearRegression()\n",
    "a = regression.fit(x_train,y_train)\n",
    "#print(a.intercept_)\n",
    "#print(a.coef_)\n",
    "score = regression.predict([[2.3]])\n",
    "\n",
    "y_predit = regression.predict(x_test)\n",
    "file = pd.DataFrame({'Acutal':y_test.squeeze(), 'Predicted':y_predit.squeeze()}).head(2)\n",
    "print(file)\n",
    "mae = mean_absolute_error(y_test,y_predit)\n",
    "ma= mean_squared_error(y_test,y_predit)\n",
    "x = np.sqrt(ma)\n",
    "print('The petal length will be',score)\n",
    "print(mae)\n",
    "print(ma)\n",
    "print(x)\n",
    "\n"
   ]
  },
  {
   "cell_type": "code",
   "execution_count": 41,
   "id": "beae029d-4f7e-4731-a58a-20ff7bbe88a9",
   "metadata": {},
   "outputs": [
    {
     "name": "stdout",
     "output_type": "stream",
     "text": [
      "[ 0.44937611 -0.08221782]\n",
      "[2.73320513]\n"
     ]
    },
    {
     "name": "stderr",
     "output_type": "stream",
     "text": [
      "C:\\Users\\vinay\\AppData\\Roaming\\Python\\Python311\\site-packages\\sklearn\\base.py:465: UserWarning: X does not have valid feature names, but LinearRegression was fitted with feature names\n",
      "  warnings.warn(\n"
     ]
    }
   ],
   "source": [
    "import pandas as pd\n",
    "from sklearn.datasets import load_iris\n",
    "from sklearn.model_selection import train_test_split\n",
    "from sklearn.metrics import mean_absolute_error,mean_squared_error\n",
    "from sklearn.linear_model import LinearRegression\n",
    "import numpy as np\n",
    "import matplotlib.pyplot as plt\n",
    "data = load_iris()\n",
    "df = pd.DataFrame(data=data.data,columns = data.feature_names)\n",
    "x = df[['petal length (cm)', 'sepal length (cm)']]\n",
    "y = df['petal width (cm)']\n",
    "reggr = LinearRegression()\n",
    "reggr.fit(x,y)\n",
    "print(reggr.coef_)\n",
    "\n",
    "pred_y=reggr.predict([[7.2,6]])\n",
    "print(pred_y)\n"
   ]
  },
  {
   "cell_type": "code",
   "execution_count": 75,
   "id": "09b55085-fe4e-4718-8ea6-c366fe2e2c4b",
   "metadata": {},
   "outputs": [
    {
     "name": "stdout",
     "output_type": "stream",
     "text": [
      "[-0.09751348]\n",
      "[[0.02239273]]\n",
      "[0 0 0 0 0 1 1 1 1 1]\n"
     ]
    }
   ],
   "source": [
    "import pandas as pd\n",
    "from sklearn.linear_model import LogisticRegression\n",
    "import numpy as np\n",
    "x = np.arange(10).reshape(-1,1)\n",
    "y = [0,1,1,1,0,0,0,0,1,1]\n",
    "model = LogisticRegression(solver = 'liblinear',C = 12.0, random_state = 0)\n",
    "model.fit(x,y)\n",
    "print(model.intercept_)\n",
    "print(model.coef_)\n",
    "#pred_y = model.predict_proba(x)\n",
    "predd_y = model.predict(x)\n",
    "#print(pred_y)\n",
    "print(predd_y)"
   ]
  },
  {
   "cell_type": "code",
   "execution_count": null,
   "id": "3c52e960-a81a-4b09-8257-61215544dda2",
   "metadata": {},
   "outputs": [],
   "source": []
  },
  {
   "cell_type": "code",
   "execution_count": null,
   "id": "1323a104-a56a-44db-8e9d-e61ded25aa09",
   "metadata": {},
   "outputs": [],
   "source": []
  },
  {
   "cell_type": "code",
   "execution_count": null,
   "id": "813017b9-e0a1-47cd-bb40-0456b97c2de3",
   "metadata": {},
   "outputs": [],
   "source": []
  }
 ],
 "metadata": {
  "kernelspec": {
   "display_name": "Python 3 (ipykernel)",
   "language": "python",
   "name": "python3"
  },
  "language_info": {
   "codemirror_mode": {
    "name": "ipython",
    "version": 3
   },
   "file_extension": ".py",
   "mimetype": "text/x-python",
   "name": "python",
   "nbconvert_exporter": "python",
   "pygments_lexer": "ipython3",
   "version": "3.11.4"
  },
  "widgets": {
   "application/vnd.jupyter.widget-state+json": {
    "state": {},
    "version_major": 2,
    "version_minor": 0
   }
  }
 },
 "nbformat": 4,
 "nbformat_minor": 5
}
